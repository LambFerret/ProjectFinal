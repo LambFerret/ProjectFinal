{
 "cells": [
  {
   "cell_type": "markdown",
   "metadata": {},
   "source": [
    "<h3>Google Image Scrapper for Juypter Notebook</h3>"
   ]
  },
  {
   "cell_type": "code",
   "execution_count": 8,
   "metadata": {},
   "outputs": [
    {
     "name": "stdout",
     "output_type": "stream",
     "text": [
      "[INFO] Scraping for image link... Please wait.\n",
      "[INFO] 0. https://lh3.googleusercontent.com/proxy/coBD_yDQTUyE0sJJNw2EyFpOg5fusQpaC69kHTIff5pfYVt3Fq4Lss4fR27igFjqV0GEJAevcMvQ95Z7uDqVSh5LYatcr9M_Q8JxWrptV14uTLdJt2kkX8bUwny0wOqLTK9Skh4diEv30QMmr4aBKg0bAvBSMX-oTuA22-xHF7i9Z7JQx8y1PGm0oUIpBAvIZlWMH8E\n",
      "[INFO] 1. https://www.maeili.com/editor/upload/c482bddd-7af4-4f25-81db-417a7c7d8739.jpg\n",
      "[INFO] 2. https://img1.daumcdn.net/thumb/R720x0.q80/?scode=mtistory2&fname=http%3A%2F%2Fcfile29.uf.tistory.com%2Fimage%2F1450B43350C7E9F83841FE\n",
      "[INFO] 3. https://img.hankyung.com/photo/202001/99.21354244.1.jpg\n",
      "[INFO] 4. https://post-phinf.pstatic.net/MjAxNzEyMTJfNjIg/MDAxNTEzMDU4OTc2MDE5.KCkPN3V-IIQ-mOSt6QbbwWM6BStSxnDg-aZXKhdIhScg.FW1dkO3HT5aoMdzBCn6Z7Y87cvqwzBvAihg0B-0kreEg.JPEG/Fotolia_133146697_Subscription_Monthly_M.jpg?type=w1200\n",
      "[INFO] 5. https://rimage.gnst.jp/livejapan.com/public/article/detail/a/00/02/a0002791/img/ko/a0002791_parts_5c10ae217cf6f.jpg?20190911181743&q=80&rw=686&rh=490\n",
      "[INFO] 6. https://phmkorea.com/wp-content/uploads/2019/02/%EB%AF%B8%EA%B5%AD-%EA%B2%A8%EC%9A%B8-%EC%A3%BC%ED%83%9D.jpg\n",
      "[INFO] 7. https://lh3.googleusercontent.com/proxy/NxYr_xi1iCmnyGBz_67Pvy1DrH0kZIH6NeD3bnA4jrXZEPle-4sV24LuOwvtu5XELFYi4mOm3lBbj9EoXX4KEpm-OfTzp-dVidWKtwYeLYnGjyT4bFji-hU\n",
      "[INFO] 8. https://img.huffingtonpost.com/asset/5f98bd29290000b216c6ad01.jpeg?cache=UjE0hUwaF5&ops=1778_1000\n",
      "[INFO] 9. http://image14.hanatour.com/uploads/2019/12/%EC%8A%A4%ED%81%AC%EB%A6%B0%EC%83%B7_2019-12-10_%EC%98%A4%ED%9B%84_12_51_10_86794757.jpg\n",
      "[INFO] Google search ended\n",
      "[INFO] Saving Image... Please wait...\n",
      "[INFO] 0 .Image saved at: C:\\Users\\lsb47\\0_python\\Final_Project\\Google-Image-Scraper-master\\photos\\겨울0.jpg\n",
      "[INFO] 1 .Image saved at: C:\\Users\\lsb47\\0_python\\Final_Project\\Google-Image-Scraper-master\\photos\\겨울1.jpg\n",
      "[INFO] 2 .Image saved at: C:\\Users\\lsb47\\0_python\\Final_Project\\Google-Image-Scraper-master\\photos\\겨울2.jpg\n",
      "[INFO] 3 .Image saved at: C:\\Users\\lsb47\\0_python\\Final_Project\\Google-Image-Scraper-master\\photos\\겨울3.jpg\n",
      "[INFO] 4 .Image saved at: C:\\Users\\lsb47\\0_python\\Final_Project\\Google-Image-Scraper-master\\photos\\겨울4.jpg\n",
      "[INFO] 5 .Image saved at: C:\\Users\\lsb47\\0_python\\Final_Project\\Google-Image-Scraper-master\\photos\\겨울5.jpg\n",
      "[INFO] 6 .Image saved at: C:\\Users\\lsb47\\0_python\\Final_Project\\Google-Image-Scraper-master\\photos\\겨울6.jpg\n",
      "[INFO] 7 .Image saved at: C:\\Users\\lsb47\\0_python\\Final_Project\\Google-Image-Scraper-master\\photos\\겨울7.jpg\n",
      "[INFO] 8 .Image saved at: C:\\Users\\lsb47\\0_python\\Final_Project\\Google-Image-Scraper-master\\photos\\겨울8.jpg\n",
      "[INFO] 9 .Image saved at: C:\\Users\\lsb47\\0_python\\Final_Project\\Google-Image-Scraper-master\\photos\\겨울9.jpg\n",
      "[INFO] Download Completed. Please note that some photos are not downloaded as it is not in the right format (e.g. jpg, jpeg, png)\n"
     ]
    }
   ],
   "source": [
    "from GoogleImageScrapper import GoogleImageScraper\n",
    "import os\n",
    "\n",
    "webdriver_path = os.getcwd()+\"\\\\webdriver\\\\chromedriver.exe\"\n",
    "#add new search key into array [\"cat\",\"t-shirt\",\"apple\",\"orange\",\"pear\",\"fish\"]\n",
    "search_keys= [\"겨울\"]\n",
    "image_path = os.getcwd()+\"\\\\photos\\\\\"+search_keys\n",
    "#serach_keys = input(\"검색어를 입력하세요: \")\n",
    "number_of_images = 10\n",
    "headless = False\n",
    "#min_resolution = (width,height)\n",
    "min_resolution=(0,0)\n",
    "#max_resolution = (width,height)\n",
    "max_resolution=(1920,1080)\n",
    "for search_key in search_keys:\n",
    "    image_scrapper = GoogleImageScraper(webdriver_path,image_path,search_key,number_of_images,headless,min_resolution,max_resolution)\n",
    "    image_urls = image_scrapper.find_image_urls()\n",
    "    image_scrapper.save_images(image_urls)\n"
   ]
  },
  {
   "cell_type": "code",
   "execution_count": null,
   "metadata": {},
   "outputs": [],
   "source": []
  }
 ],
 "metadata": {
  "kernelspec": {
   "display_name": "Python 3",
   "language": "python",
   "name": "python3"
  },
  "language_info": {
   "codemirror_mode": {
    "name": "ipython",
    "version": 3
   },
   "file_extension": ".py",
   "mimetype": "text/x-python",
   "name": "python",
   "nbconvert_exporter": "python",
   "pygments_lexer": "ipython3",
   "version": "3.8.8"
  }
 },
 "nbformat": 4,
 "nbformat_minor": 4
}
