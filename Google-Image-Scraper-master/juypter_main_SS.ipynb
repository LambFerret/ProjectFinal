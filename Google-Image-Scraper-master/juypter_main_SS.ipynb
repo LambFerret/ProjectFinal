{
 "cells": [
  {
   "cell_type": "markdown",
   "source": [
    "<h3>Google Image Scrapper for Juypter Notebook</h3>"
   ],
   "metadata": {}
  },
  {
   "cell_type": "code",
   "execution_count": null,
   "source": [
    "from ShutterstockImageScraper import ShutterstockImageScraper\r\n",
    "import os\r\n",
    "\r\n",
    "webdriver_path = os.getcwd()+\"\\\\webdriver\\\\chromedriver.exe\"\r\n",
    "#add new search key into array [\"cat\",\"t-shirt\"]\r\n",
    "image_type = 'photo'\r\n",
    "searchTerm = ['Autumn landscape', 'winter landscape']\r\n",
    "searchPage = 3\r\n",
    "headless = False\r\n",
    "#min_resolution = (width,height)\r\n",
    "min_resolution=(0,0)\r\n",
    "#max_resolution = (width,height)\r\n",
    "max_resolution=(1920,1080)\r\n",
    "for search_key in searchTerm:\r\n",
    "    scrape_directory = os.getcwd()+\"\\\\photos\\\\\" + search_key.replace('\"',\"\")\r\n",
    "    image_scrapper = ShutterstockImageScraper(webdriver_path,scrape_directory,search_key,image_type,searchPage,headless,min_resolution,max_resolution)\r\n",
    "    save_images = image_scrapper.find_save_image()\r\n",
    "\r\n"
   ],
   "outputs": [],
   "metadata": {}
  }
 ],
 "metadata": {
  "kernelspec": {
   "name": "python3",
   "display_name": "Python 3.8.8 64-bit ('base': conda)"
  },
  "language_info": {
   "codemirror_mode": {
    "name": "ipython",
    "version": 3
   },
   "file_extension": ".py",
   "mimetype": "text/x-python",
   "name": "python",
   "nbconvert_exporter": "python",
   "pygments_lexer": "ipython3",
   "version": "3.8.8"
  },
  "interpreter": {
   "hash": "a3f89ef48940cf5fe8b7daf4deb8979e07cfc7b8d894d625e2dbd57410a1b510"
  }
 },
 "nbformat": 4,
 "nbformat_minor": 4
}