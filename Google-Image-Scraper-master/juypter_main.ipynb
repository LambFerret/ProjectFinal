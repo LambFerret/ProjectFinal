{
 "cells": [
  {
   "cell_type": "markdown",
   "source": [
    "<h3>Google Image Scrapper for Juypter Notebook</h3>"
   ],
   "metadata": {}
  },
  {
   "cell_type": "code",
   "execution_count": 22,
   "source": [
    "from GoogleImageScrapper import GoogleImageScraper\r\n",
    "import os\r\n",
    "\r\n",
    "webdriver_path = os.getcwd()+\"\\\\webdriver\\\\chromedriver.exe\"\r\n",
    "#add new search key into array [\"cat\",\"t-shirt\"]\r\n",
    "search_keys= ['\"Fall\" 4K Background']\r\n",
    "number_of_images = 3\r\n",
    "headless = False\r\n",
    "#min_resolution = (width,height)\r\n",
    "min_resolution=(0,0)\r\n",
    "#max_resolution = (width,height)\r\n",
    "max_resolution=(1920,1080)\r\n",
    "for search_key in search_keys:\r\n",
    "    image_path = os.getcwd()+\"\\\\photos\\\\\" + search_key.replace('\"',\"\")\r\n",
    "    image_scrapper = GoogleImageScraper(webdriver_path,image_path,search_key,number_of_images,headless,min_resolution,max_resolution)\r\n",
    "    image_urls = image_scrapper.find_image_urls()\r\n",
    "    image_scrapper.save_images(image_urls)\r\n",
    "\r\n"
   ],
   "outputs": [
    {
     "output_type": "stream",
     "name": "stdout",
     "text": [
      "[INFO] Scraping for image link... Please wait.\n",
      "[INFO] 0. https://images6.alphacoders.com/338/thumb-1920-338596.jpg\n",
      "[INFO] Google search ended\n",
      "[INFO] Saving Image... Please wait...\n",
      "[INFO] 0 .Image saved at: c:\\Users\\chohe\\ProjectFinal\\Google-Image-Scraper-master\\photos\\Fall 4K Background\\\"Fall\" 4K Background0.jpg\n",
      "[ERROR] Failed to be downloaded [Errno 22] Invalid argument: 'c:\\\\Users\\\\chohe\\\\ProjectFinal\\\\Google-Image-Scraper-master\\\\photos\\\\Fall 4K Background\\\\\"Fall\" 4K Background0.jpg'\n",
      "[INFO] Download Completed. Please note that some photos are not downloaded as it is not in the right format (e.g. jpg, jpeg, png)\n"
     ]
    }
   ],
   "metadata": {}
  },
  {
   "cell_type": "code",
   "execution_count": null,
   "source": [],
   "outputs": [],
   "metadata": {}
  }
 ],
 "metadata": {
  "kernelspec": {
   "name": "python3",
   "display_name": "Python 3.8.8 64-bit ('base': conda)"
  },
  "language_info": {
   "codemirror_mode": {
    "name": "ipython",
    "version": 3
   },
   "file_extension": ".py",
   "mimetype": "text/x-python",
   "name": "python",
   "nbconvert_exporter": "python",
   "pygments_lexer": "ipython3",
   "version": "3.8.8"
  },
  "interpreter": {
   "hash": "a3f89ef48940cf5fe8b7daf4deb8979e07cfc7b8d894d625e2dbd57410a1b510"
  }
 },
 "nbformat": 4,
 "nbformat_minor": 4
}