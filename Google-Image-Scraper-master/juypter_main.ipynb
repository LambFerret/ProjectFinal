{
 "cells": [
  {
   "cell_type": "markdown",
   "metadata": {},
   "source": [
    "<h3>Google Image Scrapper for Juypter Notebook</h3>"
   ]
  },
  {
   "cell_type": "code",
   "execution_count": 2,
   "metadata": {},
   "outputs": [
    {
     "name": "stdout",
     "output_type": "stream",
     "text": [
      "검색어를 입력하세요: 봄\n",
      "[INFO] Image path not found. Creating a new folder.\n",
      "[INFO] Scraping for image link... Please wait.\n",
      "[INFO] 0. http://fpost.co.kr/board/data/editor/2003/d4bf3e4345bf3dee5d7a04d5a62302e4_1583479481_1401.jpg\n",
      "[INFO] 1. https://i0.wp.com/sharehows.com/wp-content/uploads/2017/03/spring-festival-0.png?resize=800%2C400&ssl=1\n",
      "[INFO] 2. https://lh3.googleusercontent.com/proxy/pO8D5CbxHiGavxsy3JiGk9j74546NzEQWKERgPxYwJIyI_UEQtPdiRAT1-i5qH0rSFB3INj6y34imh34cF5YbBdN0NBnwoOVlZP44gSaWL0C_CWor64\n",
      "[INFO] 3. https://lh3.googleusercontent.com/proxy/tDGZ_Q3wv6RlB9dOKBPMWUVSPHBZ182xnRzyZKCqmI7QuMLsEuRLDuEAyss98nQwqXZY7GiWW4dZSqboyxdITOoEXXGYvilvW7p2NfFHYz0F\n",
      "[INFO] Google search ended\n",
      "[INFO] Saving Image... Please wait...\n",
      "[INFO] 0 .Image saved at: C:\\Users\\lsb47\\0_python\\Final_Project\\Google-Image-Scraper-master\\photos\\봄\\봄0.jpg\n",
      "[INFO] 1 .Image saved at: C:\\Users\\lsb47\\0_python\\Final_Project\\Google-Image-Scraper-master\\photos\\봄\\봄1.jpg\n",
      "[INFO] 2 .Image saved at: C:\\Users\\lsb47\\0_python\\Final_Project\\Google-Image-Scraper-master\\photos\\봄\\봄2.jpg\n",
      "[INFO] 3 .Image saved at: C:\\Users\\lsb47\\0_python\\Final_Project\\Google-Image-Scraper-master\\photos\\봄\\봄3.jpg\n",
      "[INFO] Download Completed. Please note that some photos are not downloaded as it is not in the right format (e.g. jpg, jpeg, png)\n"
     ]
    }
   ],
   "source": [
    "from GoogleImageScrapper import GoogleImageScraper\n",
    "import os\n",
    "\n",
    "webdriver_path = os.getcwd()+\"\\\\webdriver\\\\chromedriver.exe\"\n",
    "#add new search key into array [\"cat\",\"t-shirt\",\"apple\",\"orange\",\"pear\",\"fish\"]\n",
    "search_keys = input(\"검색어를 입력하세요: \")\n",
    "image_path = os.getcwd()+\"\\\\photos\\\\\" + search_keys[0]\n",
    "number_of_images = 5\n",
    "headless = False\n",
    "#min_resolution = (width,height)\n",
    "min_resolution=(0,0)\n",
    "#max_resolution = (width,height)\n",
    "max_resolution=(1920,1080)\n",
    "for search_key in search_keys:\n",
    "    image_scrapper = GoogleImageScraper(webdriver_path,image_path,search_key,number_of_images,headless,min_resolution,max_resolution)\n",
    "    image_urls = image_scrapper.find_image_urls()\n",
    "    image_scrapper.save_images(image_urls)\n"
   ]
  },
  {
   "cell_type": "code",
   "execution_count": null,
   "metadata": {},
   "outputs": [],
   "source": []
  }
 ],
 "metadata": {
  "kernelspec": {
   "display_name": "Python 3",
   "language": "python",
   "name": "python3"
  },
  "language_info": {
   "codemirror_mode": {
    "name": "ipython",
    "version": 3
   },
   "file_extension": ".py",
   "mimetype": "text/x-python",
   "name": "python",
   "nbconvert_exporter": "python",
   "pygments_lexer": "ipython3",
   "version": "3.8.8"
  }
 },
 "nbformat": 4,
 "nbformat_minor": 4
}
