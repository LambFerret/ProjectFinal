{
 "cells": [
  {
   "cell_type": "code",
   "execution_count": null,
   "source": [
    "pip install git+https://www.github.com/keras-team/keras-contrib.git"
   ],
   "outputs": [],
   "metadata": {}
  },
  {
   "cell_type": "code",
   "execution_count": null,
   "source": [
    "pip install tensorflow_addons"
   ],
   "outputs": [],
   "metadata": {}
  },
  {
   "cell_type": "code",
   "execution_count": null,
   "source": [
    "import os\r\n",
    "datasets = './datasets/spring2summer' \r\n",
    "path_list = ['/testA', '/testB', '/trainA','/trainB',]\r\n",
    "\r\n",
    "for path in path_list:\r\n",
    "    os.makedirs(datasets, exist_ok=True)\r\n",
    "    os.makedirs(datasets + path, exist_ok=True)"
   ],
   "outputs": [],
   "metadata": {}
  },
  {
   "cell_type": "code",
   "execution_count": null,
   "source": [
    "!python3 cyclegan2dev.py"
   ],
   "outputs": [],
   "metadata": {}
  },
  {
   "cell_type": "code",
   "execution_count": null,
   "source": [
    "# colab에서 필요없는 폴더/파일 전부 삭제\r\n",
    "import shutil\r\n",
    "shutil.rmtree('/content/saved_model/spring2summer5/')"
   ],
   "outputs": [],
   "metadata": {}
  },
  {
   "cell_type": "code",
   "execution_count": null,
   "source": [
    "# images에 있는 파일들 result_images.zip파일 생성해서 담기\r\n",
    "!zip -r /content/result_images.zip /content/images\r\n",
    "# 생성한 zip파일 다운로드\r\n",
    "from google.colab import files\r\n",
    "files.download('/content/result_images.zip')"
   ],
   "outputs": [],
   "metadata": {}
  },
  {
   "cell_type": "code",
   "execution_count": null,
   "source": [
    "# train후 생성된 saved_model을 saved_model.zip파일 생성해서 담기\r\n",
    "!zip -r /content/saved_model.zip /content/saved_model\r\n",
    "# 생성한 zip파일 다운로드\r\n",
    "from google.colab import files\r\n",
    "files.download('/content/saved_model.zip')"
   ],
   "outputs": [],
   "metadata": {}
  },
  {
   "cell_type": "code",
   "execution_count": null,
   "source": [],
   "outputs": [],
   "metadata": {}
  },
  {
   "cell_type": "code",
   "execution_count": null,
   "source": [],
   "outputs": [],
   "metadata": {}
  },
  {
   "cell_type": "code",
   "execution_count": null,
   "source": [],
   "outputs": [],
   "metadata": {}
  },
  {
   "cell_type": "code",
   "execution_count": null,
   "source": [],
   "outputs": [],
   "metadata": {}
  }
 ],
 "metadata": {
  "orig_nbformat": 4,
  "language_info": {
   "name": "python"
  }
 },
 "nbformat": 4,
 "nbformat_minor": 2
}