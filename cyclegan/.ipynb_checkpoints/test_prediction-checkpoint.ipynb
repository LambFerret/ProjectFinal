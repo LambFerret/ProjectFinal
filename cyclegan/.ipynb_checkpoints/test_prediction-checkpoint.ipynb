{
 "cells": [
  {
   "cell_type": "code",
   "execution_count": null,
   "id": "b46e37a7",
   "metadata": {},
   "outputs": [],
   "source": [
    "class Predictions():\n",
    "    def __init__(self):\n",
    "        \n",
    "        \n",
    "        \n",
    "        \n",
    "    def load(self, path):\n",
    "            def load(self, load_path):\n",
    "        self.combined = keras.models.load_model(load_path + \"/combined\")\n",
    "        print(\"combined loaded in :\" + load_path)\n",
    "        self.g_AB = keras.models.load_model(load_path + \"/gAB\")\n",
    "        print(\"g_AB loaded\")\n",
    "        self.g_BA = keras.models.load_model(load_path + \"/gBA\")\n",
    "        print(\"g_BA loaded\")\n",
    "        self.d_A = keras.models.load_model(load_path + \"/dA\")\n",
    "        print(\"d_A loaded\")\n",
    "        self.d_B = keras.models.load_model(load_path + \"/dB\")\n",
    "        print(\"d_B loaded\")\n",
    "        self.combined.compile(loss=['mse', 'mse',\n",
    "                                    'mae', 'mae',\n",
    "                                    'mae', 'mae'],\n",
    "                              loss_weights=[1, 1,\n",
    "                                            self.lambda_cycle, self.lambda_cycle,\n",
    "                                            self.lambda_id, self.lambda_id],\n",
    "                              optimizer=Adam(0.0002, 0.5))"
   ]
  }
 ],
 "metadata": {
  "kernelspec": {
   "display_name": "Python 3",
   "language": "python",
   "name": "python3"
  },
  "language_info": {
   "codemirror_mode": {
    "name": "ipython",
    "version": 3
   },
   "file_extension": ".py",
   "mimetype": "text/x-python",
   "name": "python",
   "nbconvert_exporter": "python",
   "pygments_lexer": "ipython3",
   "version": "3.8.8"
  }
 },
 "nbformat": 4,
 "nbformat_minor": 5
}
