{
 "cells": [
  {
   "cell_type": "code",
   "execution_count": 1,
   "source": [
    "from PIL import Image\r\n",
    "from glob import glob\r\n",
    "path = glob(\"./spring2fall/*\")\r\n",
    "check = []\r\n",
    "for a in path:\r\n",
    "    check2 = glob(a+'/*')\r\n",
    "    for b in check2:\r\n",
    "        img = Image.open(b)\r\n",
    "        if img.mode != \"RGB\":\r\n",
    "            print(img.filename)"
   ],
   "outputs": [
    {
     "output_type": "stream",
     "name": "stdout",
     "text": [
      "./spring2fall\\trainA\\spring 4k352.jpg\n",
      "./spring2fall\\trainA\\spring 4k420.jpg\n",
      "./spring2fall\\trainB\\fall 4k184.jpg\n",
      "./spring2fall\\trainB\\fall 4k344.jpg\n",
      "./spring2fall\\trainB\\fall 4k392.jpg\n"
     ]
    }
   ],
   "metadata": {}
  },
  {
   "cell_type": "code",
   "execution_count": null,
   "source": [],
   "outputs": [],
   "metadata": {}
  }
 ],
 "metadata": {
  "orig_nbformat": 4,
  "language_info": {
   "name": "python",
   "version": "3.8.8",
   "mimetype": "text/x-python",
   "codemirror_mode": {
    "name": "ipython",
    "version": 3
   },
   "pygments_lexer": "ipython3",
   "nbconvert_exporter": "python",
   "file_extension": ".py"
  },
  "kernelspec": {
   "name": "python3",
   "display_name": "Python 3.8.8 64-bit ('base': conda)"
  },
  "interpreter": {
   "hash": "a3f89ef48940cf5fe8b7daf4deb8979e07cfc7b8d894d625e2dbd57410a1b510"
  }
 },
 "nbformat": 4,
 "nbformat_minor": 2
}