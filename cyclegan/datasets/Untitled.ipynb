{
 "cells": [
  {
   "cell_type": "code",
   "execution_count": 2,
   "id": "d87974f9",
   "metadata": {},
   "outputs": [
    {
     "name": "stdout",
     "output_type": "stream",
     "text": [
      "Collecting Image\n",
      "  Downloading image-1.5.33.tar.gz (15 kB)\n",
      "Requirement already satisfied: pillow in c:\\users\\lambferret\\anaconda3\\lib\\site-packages (from Image) (8.2.0)\n",
      "Collecting django\n",
      "  Downloading Django-3.2.6-py3-none-any.whl (7.9 MB)\n",
      "Requirement already satisfied: six in c:\\users\\lambferret\\anaconda3\\lib\\site-packages (from Image) (1.15.0)\n",
      "Collecting asgiref<4,>=3.3.2\n",
      "  Downloading asgiref-3.4.1-py3-none-any.whl (25 kB)\n",
      "Collecting sqlparse>=0.2.2\n",
      "  Downloading sqlparse-0.4.1-py3-none-any.whl (42 kB)\n",
      "Requirement already satisfied: pytz in c:\\users\\lambferret\\anaconda3\\lib\\site-packages (from django->Image) (2021.1)\n",
      "Building wheels for collected packages: Image\n",
      "  Building wheel for Image (setup.py): started\n",
      "  Building wheel for Image (setup.py): finished with status 'done'\n",
      "  Created wheel for Image: filename=image-1.5.33-py2.py3-none-any.whl size=19482 sha256=bbb0eda14258b5c86436fbe26c98bbeba51a4b07f6b1b3bd35b3d250b7c2821e\n",
      "  Stored in directory: c:\\users\\lambferret\\appdata\\local\\pip\\cache\\wheels\\ac\\30\\5c\\a8b33888bea3507eda7c924a143d34b2390d2ca5b145b327b5\n",
      "Successfully built Image\n",
      "Installing collected packages: sqlparse, asgiref, django, Image\n",
      "Successfully installed Image-1.5.33 asgiref-3.4.1 django-3.2.6 sqlparse-0.4.1\n"
     ]
    }
   ],
   "source": [
    "!pip install Image\n"
   ]
  },
  {
   "cell_type": "code",
   "execution_count": 2,
   "id": "33155348",
   "metadata": {},
   "outputs": [],
   "source": [
    "from PIL import Image\n",
    "from glob import glob\n",
    "path = glob(\"./spring2fall/*\")\n",
    "check = []\n",
    "for a in path:\n",
    "    check2 = glob(a+'/*')\n",
    "    for b in check2:\n",
    "        img = Image.open(b)\n",
    "        if img.mode != \"RGB\":\n",
    "            print(img.filename)\n",
    "            img.\n",
    "\n",
    "\n",
    "    "
   ]
  },
  {
   "cell_type": "code",
   "execution_count": 3,
   "id": "84b4ff96",
   "metadata": {},
   "outputs": [],
   "source": [
    "import os"
   ]
  },
  {
   "cell_type": "code",
   "execution_count": 12,
   "id": "f24e6000",
   "metadata": {},
   "outputs": [
    {
     "ename": "FileExistsError",
     "evalue": "[WinError 183] 파일이 이미 있으므로 만들 수 없습니다: './135/1'",
     "output_type": "error",
     "traceback": [
      "\u001b[1;31m---------------------------------------------------------------------------\u001b[0m",
      "\u001b[1;31mFileExistsError\u001b[0m                           Traceback (most recent call last)",
      "\u001b[1;32m<ipython-input-12-33259a20b20b>\u001b[0m in \u001b[0;36m<module>\u001b[1;34m\u001b[0m\n\u001b[0;32m      1\u001b[0m \u001b[0mpath\u001b[0m \u001b[1;33m=\u001b[0m \u001b[1;34m\"./135/\"\u001b[0m\u001b[1;33m\u001b[0m\u001b[1;33m\u001b[0m\u001b[0m\n\u001b[0;32m      2\u001b[0m \u001b[1;32mif\u001b[0m \u001b[1;32mnot\u001b[0m \u001b[0mos\u001b[0m\u001b[1;33m.\u001b[0m\u001b[0mpath\u001b[0m\u001b[1;33m.\u001b[0m\u001b[0misdir\u001b[0m\u001b[1;33m(\u001b[0m\u001b[0mpath\u001b[0m \u001b[1;33m+\u001b[0m \u001b[1;34m\"*\"\u001b[0m\u001b[1;33m)\u001b[0m\u001b[1;33m:\u001b[0m\u001b[1;33m\u001b[0m\u001b[1;33m\u001b[0m\u001b[0m\n\u001b[1;32m----> 3\u001b[1;33m     \u001b[0mos\u001b[0m\u001b[1;33m.\u001b[0m\u001b[0mmkdir\u001b[0m\u001b[1;33m(\u001b[0m\u001b[0mpath\u001b[0m \u001b[1;33m+\u001b[0m \u001b[1;34m\"1\"\u001b[0m\u001b[1;33m)\u001b[0m\u001b[1;33m\u001b[0m\u001b[1;33m\u001b[0m\u001b[0m\n\u001b[0m\u001b[0;32m      4\u001b[0m \u001b[1;32melse\u001b[0m\u001b[1;33m:\u001b[0m\u001b[1;33m\u001b[0m\u001b[1;33m\u001b[0m\u001b[0m\n\u001b[0;32m      5\u001b[0m     \u001b[0mpaths\u001b[0m \u001b[1;33m=\u001b[0m \u001b[0mglob\u001b[0m\u001b[1;33m(\u001b[0m\u001b[0mpath\u001b[0m \u001b[1;33m+\u001b[0m \u001b[1;34m\"*\"\u001b[0m\u001b[1;33m)\u001b[0m\u001b[1;33m\u001b[0m\u001b[1;33m\u001b[0m\u001b[0m\n",
      "\u001b[1;31mFileExistsError\u001b[0m: [WinError 183] 파일이 이미 있으므로 만들 수 없습니다: './135/1'"
     ]
    }
   ],
   "source": [
    "paths = glob(path+\"*\")\n",
    "path = \"./135/\"\n",
    "if not os.path.isdir(path + \"*\"):\n",
    "    os.mkdir(path + \"1\")\n",
    "else:\n",
    "    paths = glob(path + \"*\")\n",
    "    print(str(str(paths[-1])[-1]))"
   ]
  },
  {
   "cell_type": "code",
   "execution_count": 10,
   "id": "8d99d9aa",
   "metadata": {},
   "outputs": [],
   "source": [
    "paths = glob(\"./135/*\")"
   ]
  },
  {
   "cell_type": "code",
   "execution_count": 11,
   "id": "44fce746",
   "metadata": {},
   "outputs": [
    {
     "data": {
      "text/plain": [
       "['./135\\\\1']"
      ]
     },
     "execution_count": 11,
     "metadata": {},
     "output_type": "execute_result"
    }
   ],
   "source": [
    "paths"
   ]
  },
  {
   "cell_type": "code",
   "execution_count": 14,
   "id": "30c004e3",
   "metadata": {},
   "outputs": [
    {
     "data": {
      "text/plain": [
       "False"
      ]
     },
     "execution_count": 14,
     "metadata": {},
     "output_type": "execute_result"
    }
   ],
   "source": [
    "os.path.isdir(path + \"*\")"
   ]
  },
  {
   "cell_type": "code",
   "execution_count": 26,
   "id": "64eb0e48",
   "metadata": {},
   "outputs": [
    {
     "data": {
      "text/plain": [
       "[]"
      ]
     },
     "execution_count": 26,
     "metadata": {},
     "output_type": "execute_result"
    }
   ],
   "source": [
    "paths = glob(path+\"*\")\n",
    "paths"
   ]
  },
  {
   "cell_type": "code",
   "execution_count": 23,
   "id": "d03b2c53",
   "metadata": {},
   "outputs": [
    {
     "name": "stdout",
     "output_type": "stream",
     "text": [
      "2\n"
     ]
    }
   ],
   "source": [
    "print(int(paths[-1][-1]))"
   ]
  },
  {
   "cell_type": "code",
   "execution_count": 41,
   "id": "0c1c4b7e",
   "metadata": {},
   "outputs": [],
   "source": [
    "paths = glob(path+\"*\")\n",
    "name = \"s2f\"\n",
    "if len(paths) == 0:\n",
    "    os.mkdir(path +name+\"1\")\n",
    "else:\n",
    "    num = int(paths[-1][-1]) + 1\n",
    "    os.mkdir(path+name+str(num))"
   ]
  },
  {
   "cell_type": "code",
   "execution_count": null,
   "id": "1bdbbad9",
   "metadata": {},
   "outputs": [],
   "source": []
  }
 ],
 "metadata": {
  "kernelspec": {
   "display_name": "Python 3",
   "language": "python",
   "name": "python3"
  },
  "language_info": {
   "codemirror_mode": {
    "name": "ipython",
    "version": 3
   },
   "file_extension": ".py",
   "mimetype": "text/x-python",
   "name": "python",
   "nbconvert_exporter": "python",
   "pygments_lexer": "ipython3",
   "version": "3.8.8"
  }
 },
 "nbformat": 4,
 "nbformat_minor": 5
}
