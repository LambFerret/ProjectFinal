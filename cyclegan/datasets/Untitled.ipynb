{
 "cells": [
  {
   "cell_type": "code",
   "execution_count": 2,
   "id": "d87974f9",
   "metadata": {},
   "outputs": [
    {
     "name": "stdout",
     "output_type": "stream",
     "text": [
      "Collecting Image\n",
      "  Downloading image-1.5.33.tar.gz (15 kB)\n",
      "Requirement already satisfied: pillow in c:\\users\\lambferret\\anaconda3\\lib\\site-packages (from Image) (8.2.0)\n",
      "Collecting django\n",
      "  Downloading Django-3.2.6-py3-none-any.whl (7.9 MB)\n",
      "Requirement already satisfied: six in c:\\users\\lambferret\\anaconda3\\lib\\site-packages (from Image) (1.15.0)\n",
      "Collecting asgiref<4,>=3.3.2\n",
      "  Downloading asgiref-3.4.1-py3-none-any.whl (25 kB)\n",
      "Collecting sqlparse>=0.2.2\n",
      "  Downloading sqlparse-0.4.1-py3-none-any.whl (42 kB)\n",
      "Requirement already satisfied: pytz in c:\\users\\lambferret\\anaconda3\\lib\\site-packages (from django->Image) (2021.1)\n",
      "Building wheels for collected packages: Image\n",
      "  Building wheel for Image (setup.py): started\n",
      "  Building wheel for Image (setup.py): finished with status 'done'\n",
      "  Created wheel for Image: filename=image-1.5.33-py2.py3-none-any.whl size=19482 sha256=bbb0eda14258b5c86436fbe26c98bbeba51a4b07f6b1b3bd35b3d250b7c2821e\n",
      "  Stored in directory: c:\\users\\lambferret\\appdata\\local\\pip\\cache\\wheels\\ac\\30\\5c\\a8b33888bea3507eda7c924a143d34b2390d2ca5b145b327b5\n",
      "Successfully built Image\n",
      "Installing collected packages: sqlparse, asgiref, django, Image\n",
      "Successfully installed Image-1.5.33 asgiref-3.4.1 django-3.2.6 sqlparse-0.4.1\n"
     ]
    }
   ],
   "source": [
    "!pip install Image\n"
   ]
  },
  {
   "cell_type": "code",
   "execution_count": 25,
   "id": "33155348",
   "metadata": {},
   "outputs": [
    {
     "name": "stdout",
     "output_type": "stream",
     "text": [
      "./spring2fall\\trainB\\spring 4k420.jpg\n"
     ]
    }
   ],
   "source": [
    "from PIL import Image\n",
    "from glob import glob\n",
    "path = glob(\"./spring2fall/*\")\n",
    "check = []\n",
    "for a in path:\n",
    "    check2 = glob(a+'/*')\n",
    "    for b in check2:\n",
    "        img = Image.open(b)\n",
    "        if img.mode != \"RGB\":\n",
    "            print(img.filename)\n",
    "\n",
    "\n",
    "    "
   ]
  }
 ],
 "metadata": {
  "kernelspec": {
   "display_name": "Python 3",
   "language": "python",
   "name": "python3"
  },
  "language_info": {
   "codemirror_mode": {
    "name": "ipython",
    "version": 3
   },
   "file_extension": ".py",
   "mimetype": "text/x-python",
   "name": "python",
   "nbconvert_exporter": "python",
   "pygments_lexer": "ipython3",
   "version": "3.8.8"
  }
 },
 "nbformat": 4,
 "nbformat_minor": 5
}
